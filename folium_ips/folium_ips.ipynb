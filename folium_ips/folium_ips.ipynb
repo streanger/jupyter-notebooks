{
 "cells": [
  {
   "cell_type": "code",
   "execution_count": null,
   "id": "d5db1274",
   "metadata": {},
   "outputs": [],
   "source": [
    "!py -3.9 -m pip install folium"
   ]
  },
  {
   "cell_type": "code",
   "execution_count": 32,
   "id": "9fe52aa8",
   "metadata": {},
   "outputs": [
    {
     "data": {
      "text/html": [
       "<style>.container { width:100% !important; }</style>"
      ],
      "text/plain": [
       "<IPython.core.display.HTML object>"
      ]
     },
     "metadata": {},
     "output_type": "display_data"
    }
   ],
   "source": [
    "import pandas as pd\n",
    "from IPython.display import display, HTML\n",
    "# \"<style>.container { width:100% !important; }</style>\"\n",
    "display(HTML(\"<style>.container { width:100% !important; }</style>\"))\n",
    "pd.set_option('display.max_columns', None)\n",
    "pd.set_option('display.max_rows', None)\n",
    "pd.set_option('max_colwidth', 100)"
   ]
  },
  {
   "cell_type": "code",
   "execution_count": null,
   "id": "f1452356",
   "metadata": {},
   "outputs": [],
   "source": [
    "import random\n",
    "import folium\n",
    "import requests\n",
    "from folium.plugins import MarkerCluster\n",
    "\n",
    "\"\"\"\n",
    "useful:\n",
    "    https://maja0108.github.io/ip-post/\n",
    "    https://msticpy.readthedocs.io/en/latest/visualization/FoliumMap.html\n",
    "    https://towardsdatascience.com/creating-a-simple-map-with-folium-and-python-4c083abfff94\n",
    "    https://python-visualization.github.io/folium/modules.html\n",
    "    https://pypi.org/project/folium/\n",
    "    https://www.python-graph-gallery.com/312-add-markers-on-folium-map\n",
    "    https://ipinfo.io/\n",
    "    https://gis.stackexchange.com/questions/437941/draw-a-line-between-pairs-of-points-with-calculating-the-distance-using-folium\n",
    "    \n",
    "todo:\n",
    "    -markers with lines\n",
    "\"\"\"\n",
    "\n",
    "\n",
    "def ipinfo(ip):\n",
    "    \"\"\"request for ipinfo\n",
    "    example:\n",
    "    {\n",
    "      \"ip\": \"1.2.3.4\",\n",
    "      \"city\": \"Brisbane\",\n",
    "      \"region\": \"Queensland\",\n",
    "      \"country\": \"AU\",\n",
    "      \"loc\": \"-27.4820,153.0136\",\n",
    "      \"postal\": \"4101\",\n",
    "      \"timezone\": \"Australia/Brisbane\",\n",
    "      \"readme\": \"https://ipinfo.io/missingauth\"\n",
    "    }\n",
    "    \"\"\"\n",
    "    base_url = 'https://ipinfo.io/{}'\n",
    "    url = base_url.format(ip)\n",
    "    response = requests.get(url)\n",
    "    return response.json()\n",
    "\n",
    "\n",
    "def ipinfo_to_geolocation(data):\n",
    "    \"\"\"parse ipinfo json response and retur geolocation\"\"\"\n",
    "    loc = data['loc']\n",
    "    lat, lon = [float(item) for item in loc.split(',')]\n",
    "    return lat, lon\n",
    "\n",
    "\n",
    "# ******* read list of ips *******\n",
    "# Recently Reported IPs from: https://www.abuseipdb.com/ \n",
    "ips = ['190.117.221.44', '119.96.175.9', '212.192.219.138', '190.188.229.150', '47.91.28.226', '157.245.51.40', '1.58.223.117', '183.99.2.239', '165.227.118.71', '58.34.189.28', '41.111.213.190', '40.127.173.225', '182.34.213.212', '142.93.116.249', '178.128.100.248', '14.171.211.221', '121.234.236.49', '120.48.15.186', '211.63.188.3', '187.149.142.97']\n",
    "ips += ['128.90.162.149', '161.35.230.183', '106.56.250.2', '31.220.1.83', '134.122.52.34', '103.17.198.24', '163.44.252.65', '77.20.117.212', '165.227.110.188', '185.229.29.195', '86.105.27.142', '60.14.31.227', '61.177.172.19', '51.89.164.205', '84.201.177.10', '122.237.44.252', '119.187.147.110', '91.211.246.241', '13.233.136.87', '190.111.182.11']\n",
    "ips = ips[:10]\n",
    "\n",
    "\n",
    "# ******* get ips geolocation *******\n",
    "ips_geo = []\n",
    "for ip in ips:\n",
    "    info = ipinfo(ip)\n",
    "    lat, lon = ipinfo_to_geolocation(info)\n",
    "    ips_geo.append((ip, lat, lon))\n",
    "    \n",
    "# ******* for content *******\n",
    "ips_geo_pairs = []\n",
    "first = ips_geo.pop(random.randrange(len(ips_geo)))\n",
    "second = ips_geo.pop(random.randrange(len(ips_geo)))\n",
    "ips_number = len(ips_geo)\n",
    "for x in range(ips_number):\n",
    "    right = ips_geo.pop(random.randrange(len(ips_geo)))\n",
    "    # left = random.choice([first, second])\n",
    "    left = random.choice([first])\n",
    "    ips_geo_pairs.append((left, right))\n",
    "    \n",
    "# ******* map object *******\n",
    "map_obj = folium.Map(location=[0, 0], tiles=\"OpenStreetMap\", zoom_start=2)\n",
    "marker_cluster = MarkerCluster().add_to(map_obj)\n",
    "\n",
    "# ******* plot markers with polylines *******\n",
    "if True:\n",
    "    for (left, right) in ips_geo_pairs:\n",
    "        left_ip, left_lat, left_lon = left\n",
    "        right_ip, right_lat, right_lon = right\n",
    "        folium.CircleMarker(location=[left_lat, left_lon], radius=5, fill_opacity=0.9).add_to(marker_cluster)\n",
    "        folium.CircleMarker(location=[right_lat, right_lon], radius=5, fill_opacity=0.9).add_to(marker_cluster)\n",
    "        folium.PolyLine([\n",
    "            [left_lat, left_lon],\n",
    "            [right_lat, right_lon]],\n",
    "            color='red',\n",
    "        ).add_to(marker_cluster)\n",
    "        \n",
    "# ******* plot markers only *******\n",
    "if False:\n",
    "    for ip, lat, lon in ips_geo:\n",
    "        folium.CircleMarker(location=[lat, lon], radius=5, fill_opacity=0.9).add_to(marker_cluster)\n",
    "        \n",
    "# ******* display map *******\n",
    "map_obj.save('ip_location.html')\n",
    "display(map_obj)\n"
   ]
  },
  {
   "cell_type": "code",
   "execution_count": null,
   "id": "15016059",
   "metadata": {},
   "outputs": [],
   "source": []
  }
 ],
 "metadata": {
  "kernelspec": {
   "display_name": "Python 3 (ipykernel)",
   "language": "python",
   "name": "python3"
  },
  "language_info": {
   "codemirror_mode": {
    "name": "ipython",
    "version": 3
   },
   "file_extension": ".py",
   "mimetype": "text/x-python",
   "name": "python",
   "nbconvert_exporter": "python",
   "pygments_lexer": "ipython3",
   "version": "3.9.10"
  }
 },
 "nbformat": 4,
 "nbformat_minor": 5
}
