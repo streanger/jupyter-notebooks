{
 "cells": [
  {
   "cell_type": "markdown",
   "id": "bfddaf4d",
   "metadata": {},
   "source": [
    "### install & docs"
   ]
  },
  {
   "cell_type": "code",
   "execution_count": null,
   "id": "1c3d8345",
   "metadata": {
    "scrolled": false
   },
   "outputs": [],
   "source": [
    "pip install qgrid"
   ]
  },
  {
   "cell_type": "code",
   "execution_count": null,
   "id": "9ec5ebca",
   "metadata": {},
   "outputs": [],
   "source": [
    "# solving problems: https://github.com/quantopian/qgrid/issues/253\n",
    "# jupyter nbextension enable --py --sys-prefix qgrid\n",
    "# jupyter nbextension enable --py --sys-prefix widgetsnbextension\n",
    "\n",
    "\"\"\"\n",
    "qgrid method 'on':\n",
    "    https://qgrid.readthedocs.io/en/v1.1.0/#qgrid.QgridWidget.on\n",
    "    \n",
    "events:\n",
    "[\n",
    "    'cell_edited',\n",
    "    'selection_changed',\n",
    "    'viewport_changed',\n",
    "    'row_added',\n",
    "    'row_removed',\n",
    "    'filter_dropdown_shown',\n",
    "    'filter_changed',\n",
    "    'sort_changed',\n",
    "    'text_filter_viewport_changed',\n",
    "    'json_updated'\n",
    "]\n",
    "\"\"\""
   ]
  },
  {
   "cell_type": "markdown",
   "id": "bb4c791b",
   "metadata": {},
   "source": [
    "### window & df table setup"
   ]
  },
  {
   "cell_type": "code",
   "execution_count": 6,
   "id": "988992ce",
   "metadata": {},
   "outputs": [
    {
     "data": {
      "text/html": [
       "<style>.container { width:100% !important; }</style>"
      ],
      "text/plain": [
       "<IPython.core.display.HTML object>"
      ]
     },
     "metadata": {},
     "output_type": "display_data"
    }
   ],
   "source": [
    "import pandas as pd\n",
    "from IPython.core.display import display, HTML\n",
    "display(HTML(\"<style>.container { width:100% !important; }</style>\"))\n",
    "\n",
    "pd.set_option('display.max_columns', None)\n",
    "pd.set_option('display.max_rows', None)\n",
    "pd.set_option('max_colwidth', 100)"
   ]
  },
  {
   "cell_type": "markdown",
   "id": "e5ec5cc7",
   "metadata": {},
   "source": [
    "### qgrid with 'on' method example"
   ]
  },
  {
   "cell_type": "code",
   "execution_count": 28,
   "id": "f63f7891",
   "metadata": {
    "scrolled": false
   },
   "outputs": [
    {
     "data": {
      "application/vnd.jupyter.widget-view+json": {
       "model_id": "81ea80c469814c669ebfe0948353de19",
       "version_major": 2,
       "version_minor": 0
      },
      "text/plain": [
       "QgridWidget(grid_options={'fullWidthRows': True, 'syncColumnCellResize': True, 'forceFitColumns': True, 'defau…"
      ]
     },
     "metadata": {},
     "output_type": "display_data"
    }
   ],
   "source": [
    "import qgrid\n",
    "import pandas as pd\n",
    "from traitlets import All\n",
    "\n",
    "\n",
    "def make_action(row, new_state):\n",
    "    print('[*] some action with row data')\n",
    "    return None\n",
    "\n",
    "\n",
    "def handle_column_update(event, qgrid_widget):\n",
    "    # exclude 'viewport_changed' events since that doesn't change the DataFrame\n",
    "    if event['column'] == 'thing':\n",
    "        print(event)\n",
    "        changed_df = qgrid_widget.get_changed_df()\n",
    "        row = changed_df.iloc[event['index']]\n",
    "        new_state = event['new']\n",
    "        \n",
    "        make_action(row, new_state)\n",
    "        # think of making some changes in qgrid programmatically\n",
    "        # after action was taken e.g. changing cell bg color\n",
    "        # to signalize to the user\n",
    "    return None\n",
    "\n",
    "\n",
    "if __name__ == \"__main__\":\n",
    "    # ********* create or read data frame *********\n",
    "    data_set = [\n",
    "        ['some', 'thing', 'here'],\n",
    "        [11, True, 'text'],\n",
    "        [22, False, 'new'],\n",
    "        [33, True, 'next'],\n",
    "        [44, False, 'line'],\n",
    "        [55, False, 'here'],\n",
    "        [66, True, 'text'],\n",
    "    ]\n",
    "    headers = data_set.pop(0)\n",
    "    df = pd.DataFrame(data_set, columns=headers)\n",
    "    \n",
    "    # ********* make qgrid object with event handler *********\n",
    "    widget = qgrid.show_grid(df)\n",
    "    widget.on('cell_edited', handle_column_update)\n",
    "    \n",
    "    # ********* display qgrid *********\n",
    "    display(widget)\n",
    "    "
   ]
  },
  {
   "cell_type": "code",
   "execution_count": null,
   "id": "9ebc7951",
   "metadata": {},
   "outputs": [],
   "source": []
  }
 ],
 "metadata": {
  "kernelspec": {
   "display_name": "Python 3",
   "language": "python",
   "name": "python3"
  },
  "language_info": {
   "codemirror_mode": {
    "name": "ipython",
    "version": 3
   },
   "file_extension": ".py",
   "mimetype": "text/x-python",
   "name": "python",
   "nbconvert_exporter": "python",
   "pygments_lexer": "ipython3",
   "version": "3.8.8"
  }
 },
 "nbformat": 4,
 "nbformat_minor": 5
}
