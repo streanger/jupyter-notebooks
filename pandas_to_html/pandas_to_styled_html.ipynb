{
 "cells": [
  {
   "cell_type": "code",
   "execution_count": null,
   "id": "1c3d8345",
   "metadata": {
    "scrolled": false
   },
   "outputs": [],
   "source": [
    "!pip install qgrid\n",
    "# solving problems: https://github.com/quantopian/qgrid/issues/253\n",
    "# run these commands in terminal (cmd, powershell)\n",
    "# jupyter nbextension enable --py --sys-prefix qgrid\n",
    "# jupyter nbextension enable --py --sys-prefix widgetsnbextension"
   ]
  },
  {
   "cell_type": "code",
   "execution_count": 1,
   "id": "988992ce",
   "metadata": {},
   "outputs": [
    {
     "data": {
      "text/html": [
       "<style>.container { width:100% !important; }</style>"
      ],
      "text/plain": [
       "<IPython.core.display.HTML object>"
      ]
     },
     "metadata": {},
     "output_type": "display_data"
    }
   ],
   "source": [
    "import pandas as pd\n",
    "from IPython.display import display, HTML\n",
    "display(HTML(\"<style>.container { width:100% !important; }</style>\"))\n",
    "\n",
    "pd.set_option('display.max_columns', None)\n",
    "pd.set_option('display.max_rows', None)\n",
    "pd.set_option('max_colwidth', 100)"
   ]
  },
  {
   "cell_type": "code",
   "execution_count": 3,
   "id": "f63f7891",
   "metadata": {
    "scrolled": false
   },
   "outputs": [
    {
     "data": {
      "application/vnd.jupyter.widget-view+json": {
       "model_id": "0978d4297d82416c8418c6eabedc3342",
       "version_major": 2,
       "version_minor": 0
      },
      "text/plain": [
       "QgridWidget(grid_options={'fullWidthRows': True, 'syncColumnCellResize': True, 'forceFitColumns': True, 'defau…"
      ]
     },
     "metadata": {},
     "output_type": "display_data"
    }
   ],
   "source": [
    "import qgrid\n",
    "import pandas as pd\n",
    "from pandas.io.formats.style import Styler\n",
    "\n",
    "\"\"\"\n",
    "useful:\n",
    "    https://pbpython.com/dataframe-gui-overview.html\n",
    "    https://datascientyst.com/create-clickable-link-pandas-dataframe-jupyterlab/\n",
    "    https://stackoverflow.com/questions/67065785/pandas-styling-doesnt-display-for-all-rows-in-large-dataframes-in-chrome-or-edg\n",
    "\"\"\"\n",
    "\n",
    "def write_file(filename, text, mode='w'):\n",
    "    \"\"\"write to file\"\"\"\n",
    "    try:\n",
    "        with open(filename, mode, encoding='utf-8') as f:\n",
    "            f.write(text)\n",
    "    except Exception as err:\n",
    "        print('[x] Failed to write to file: {}, err: {}'.format(filename, err))\n",
    "    return None\n",
    "\n",
    "\n",
    "def style_df(x):\n",
    "    # ***** color style *****\n",
    "    # add many levels\n",
    "    if x['abuseConfidenceScore'] > 50:\n",
    "        bg_style = ['background-color: #ffcccb']  # lightred\n",
    "    elif 20 < x['abuseConfidenceScore'] <= 50:\n",
    "        bg_style = ['background-color: #ffcc7a']  # yellow\n",
    "    else:\n",
    "        bg_style = ['background-color: lightgreen']\n",
    "    \n",
    "    # ***** other styles *****\n",
    "    other_styles = [\"text-align:right\"]\n",
    "    \n",
    "    # ***** total style *****\n",
    "    total_style = ';'.join(bg_style+other_styles)\n",
    "    return [total_style]*len(x)\n",
    "\n",
    "\n",
    "def hover(hover_color=\"lightblue\"):\n",
    "    \"\"\"\n",
    "    #add8e6\n",
    "    https://www.titanwolf.org/Network/q/495331bc-4796-4f2b-8667-40e050be5c7e/y\n",
    "    \"\"\"\n",
    "    row_style = dict(\n",
    "        selector=\"tbody tr:hover\",\n",
    "        props=[(\"background-color\", \"%s\" % hover_color)]\n",
    "    )\n",
    "    return row_style\n",
    "\n",
    "\n",
    "def apply_style(df):\n",
    "    styles = [\n",
    "        #table properties\n",
    "        dict(selector='',\n",
    "             props=[\n",
    "                ('margin-left', 'auto'),\n",
    "                ('margin-right', 'auto'),\n",
    "                ('width', '80%'),\n",
    "                ]),\n",
    "        dict(selector='td',\n",
    "             props=[\n",
    "                ('border', '1px solid #777'),\n",
    "                ('border-spacing', '10px'),\n",
    "                ('padding', '5px'),\n",
    "                ]),\n",
    "        hover(),\n",
    "    ]\n",
    "    \n",
    "    # large tables styling limitations\n",
    "    # https://github.com/pandas-dev/pandas/issues/39400\n",
    "    # styled = df.style.apply(style_df, axis=1) \\\n",
    "    styled = Styler(df, uuid_len=0, cell_ids=False).apply(style_df, axis=1) \\\n",
    "                     .set_table_styles(styles, overwrite=True)\n",
    "    # styled = df.style.set_table_styles(styles, overwrite=True) # only hover\n",
    "    return styled\n",
    "\n",
    "\n",
    "def ipv4_sorter(ip):\n",
    "    return '.'.join([item.zfill(3) for item in ip.split('.')])\n",
    "\n",
    "\n",
    "if __name__ == \"__main__\":\n",
    "    # ******** read data ********\n",
    "    filename = 'fake_abuseipdb.csv'\n",
    "    df = pd.read_csv(filename, index_col=None)\n",
    "    \n",
    "    # *********** rearange & sort by IP ***********\n",
    "    new_order = ['ipAddress', 'abuseConfidenceScore', 'totalReports', 'countryCode', 'domain', 'isp', 'url']\n",
    "    df = df[new_order]\n",
    "    df['url'] = ['<a href={}>{}</a>'.format(item, item) for item in df['url']]\n",
    "    df['ip_sorter'] = df['ipAddress'].apply(lambda x: ipv4_sorter(x))\n",
    "    df.sort_values(['ip_sorter', ], ascending=[True, ], inplace=True)\n",
    "    df.drop(columns='ip_sorter', inplace=True)\n",
    "    df.reset_index(drop=True, inplace=True)\n",
    "    df.index += 1\n",
    "    \n",
    "    # *********** qgrid display ***********\n",
    "    widget = qgrid.show_grid(df, show_toolbar=True)\n",
    "    display(widget)\n",
    "\n",
    "    # ******** to html ********\n",
    "    styled = apply_style(df)\n",
    "    html = styled.to_html(render_links=True, escape=False)\n",
    "    write_file('dfout.html', html)\n",
    "    \n",
    "    # ******** to excel ********\n",
    "    styled.to_excel('dfout.xlsx')\n",
    "    "
   ]
  },
  {
   "cell_type": "code",
   "execution_count": null,
   "id": "2d3f1145",
   "metadata": {},
   "outputs": [],
   "source": []
  }
 ],
 "metadata": {
  "kernelspec": {
   "display_name": "Python 3 (ipykernel)",
   "language": "python",
   "name": "python3"
  },
  "language_info": {
   "codemirror_mode": {
    "name": "ipython",
    "version": 3
   },
   "file_extension": ".py",
   "mimetype": "text/x-python",
   "name": "python",
   "nbconvert_exporter": "python",
   "pygments_lexer": "ipython3",
   "version": "3.9.10"
  }
 },
 "nbformat": 4,
 "nbformat_minor": 5
}
