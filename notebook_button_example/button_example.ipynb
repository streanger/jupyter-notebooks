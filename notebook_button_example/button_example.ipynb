{
 "cells": [
  {
   "cell_type": "code",
   "execution_count": null,
   "id": "1c3d8345",
   "metadata": {
    "scrolled": true
   },
   "outputs": [],
   "source": [
    "!pip install qgrid\n",
    "# solving problems: https://github.com/quantopian/qgrid/issues/253\n",
    "# jupyter nbextension enable --py --sys-prefix qgrid\n",
    "# jupyter nbextension enable --py --sys-prefix widgetsnbextension"
   ]
  },
  {
   "cell_type": "code",
   "execution_count": 2,
   "id": "988992ce",
   "metadata": {},
   "outputs": [
    {
     "name": "stderr",
     "output_type": "stream",
     "text": [
      "C:\\Users\\mike\\AppData\\Local\\Temp\\ipykernel_15580\\4260920706.py:2: DeprecationWarning: Importing display from IPython.core.display is deprecated since IPython 7.14, please import from IPython display\n",
      "  from IPython.core.display import display, HTML\n"
     ]
    },
    {
     "data": {
      "text/html": [
       "<style>.container { width:100% !important; }</style>"
      ],
      "text/plain": [
       "<IPython.core.display.HTML object>"
      ]
     },
     "metadata": {},
     "output_type": "display_data"
    }
   ],
   "source": [
    "import pandas as pd\n",
    "from IPython.core.display import display, HTML\n",
    "display(HTML(\"<style>.container { width:100% !important; }</style>\"))\n",
    "\n",
    "pd.set_option('display.max_columns', None)\n",
    "pd.set_option('display.max_rows', None)\n",
    "pd.set_option('max_colwidth', 100)"
   ]
  },
  {
   "cell_type": "code",
   "execution_count": 3,
   "id": "f63f7891",
   "metadata": {
    "scrolled": false
   },
   "outputs": [
    {
     "data": {
      "application/vnd.jupyter.widget-view+json": {
       "model_id": "c911a156d2b14023aeb66400cd40ad04",
       "version_major": 2,
       "version_minor": 0
      },
      "text/plain": [
       "HBox(children=(Button(button_style='info', description='SAVE CHANGED', icon='save', style=ButtonStyle(), toolt…"
      ]
     },
     "metadata": {},
     "output_type": "display_data"
    },
    {
     "data": {
      "application/vnd.jupyter.widget-view+json": {
       "model_id": "c3999ca414e34334b78f0c3152c86fd5",
       "version_major": 2,
       "version_minor": 0
      },
      "text/plain": [
       "QgridWidget(grid_options={'fullWidthRows': True, 'syncColumnCellResize': True, 'forceFitColumns': True, 'defau…"
      ]
     },
     "metadata": {},
     "output_type": "display_data"
    }
   ],
   "source": [
    "import os\n",
    "import time\n",
    "import qgrid\n",
    "import pandas as pd\n",
    "import ipywidgets as widgets\n",
    "\n",
    "\n",
    "\"\"\"\n",
    "https://towardsdatascience.com/create-new-column-based-on-other-columns-pandas-5586d87de73d\n",
    "https://pbpython.com/dataframe-gui-overview.html\n",
    "https://fontawesome.com/icons\n",
    "https://stackoverflow.com/questions/110498/is-there-an-easy-way-to-request-a-url-in-python-and-not-follow-redirects\n",
    "https://stackoverflow.com/questions/31379005/chrome-inspector-does-not-show-network-requests-path-and-etc\n",
    "\n",
    "useful:\n",
    "    # df = df1.append(df2, ignore_index=True)  # DEPRECATED\n",
    "    df = pd.concat([df1, df2], axis=0, ignore_index=True)  # CONCATENATE TWO DATAFRAMES\n",
    "    df['url_ok'] = ['<a href={}>{}</a>'.format(item, item) for item in df['url_ok']]  # MAKE CLICKABLE URL\n",
    "    df['OK'] = df.apply(lambda row: (row['url_ok_response']==200) and (row['url_nok_response']!=200), axis=1)  # CREATE COLUMN BASED ON OTHER COLUMNS\n",
    "    df['note'] = ''  # COLUMN WITH FIXED VALUE\n",
    "\"\"\"\n",
    "\n",
    "\n",
    "def save_changed_df(event):\n",
    "    changed_df = event.widget.get_changed_df()\n",
    "    filename = event.filename\n",
    "    changed_df.to_csv(filename)\n",
    "    now_time = time.strftime('%H:%M:%S')\n",
    "    event.label.value = \"changed df saved to: {} [{}]\".format(filename, now_time)\n",
    "    return None\n",
    "\n",
    "\n",
    "if __name__ == \"__main__\":\n",
    "    # *********** read data ***********\n",
    "    filename = 'example.csv'\n",
    "    df = pd.read_csv(filename, index_col=0)\n",
    "    \n",
    "    \n",
    "    # *********** GUI ***********\n",
    "    save_changed_button = widgets.Button(\n",
    "        description='SAVE CHANGED',\n",
    "        disabled=False,\n",
    "        button_style='info',  # 'success', 'info', 'warning', 'danger' or ''\n",
    "        tooltip='save changed',\n",
    "        icon='save'\n",
    "    )\n",
    "    save_changed_button.on_click(save_changed_df)\n",
    "    save_label = widgets.Label(value='', layout=widgets.Layout(display=\"flex\", justify_content=\"center\", width=\"30%\", border=\"ridge\", color=\"blue\"))\n",
    "    save_changed_button.label = save_label\n",
    "    save_changed_button.filename = filename\n",
    "    save_hbox = widgets.HBox([save_changed_button, save_label])\n",
    "    display(save_hbox)\n",
    "    \n",
    "    \n",
    "    # *********** display ***********\n",
    "    widget = qgrid.show_grid(df, show_toolbar=True)\n",
    "    save_changed_button.widget = widget\n",
    "    display(widget)\n",
    "    "
   ]
  },
  {
   "cell_type": "code",
   "execution_count": null,
   "id": "e2058c65",
   "metadata": {},
   "outputs": [],
   "source": []
  }
 ],
 "metadata": {
  "kernelspec": {
   "display_name": "Python 3 (ipykernel)",
   "language": "python",
   "name": "python3"
  },
  "language_info": {
   "codemirror_mode": {
    "name": "ipython",
    "version": 3
   },
   "file_extension": ".py",
   "mimetype": "text/x-python",
   "name": "python",
   "nbconvert_exporter": "python",
   "pygments_lexer": "ipython3",
   "version": "3.10.2"
  }
 },
 "nbformat": 4,
 "nbformat_minor": 5
}
