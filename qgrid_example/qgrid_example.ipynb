{
 "cells": [
  {
   "cell_type": "code",
   "execution_count": null,
   "id": "1c3d8345",
   "metadata": {
    "scrolled": true
   },
   "outputs": [],
   "source": [
    "!pip install qgrid\n",
    "# solving problems: https://github.com/quantopian/qgrid/issues/253\n",
    "# run these commands in terminal (cmd, powershell)\n",
    "# jupyter nbextension enable --py --sys-prefix qgrid\n",
    "# jupyter nbextension enable --py --sys-prefix widgetsnbextension"
   ]
  },
  {
   "cell_type": "code",
   "execution_count": 1,
   "id": "988992ce",
   "metadata": {},
   "outputs": [
    {
     "data": {
      "text/html": [
       "<style>.container { width:100% !important; }</style>"
      ],
      "text/plain": [
       "<IPython.core.display.HTML object>"
      ]
     },
     "metadata": {},
     "output_type": "display_data"
    }
   ],
   "source": [
    "import pandas as pd\n",
    "from IPython.core.display import display, HTML\n",
    "display(HTML(\"<style>.container { width:100% !important; }</style>\"))\n",
    "\n",
    "pd.set_option('display.max_columns', None)\n",
    "pd.set_option('display.max_rows', None)\n",
    "pd.set_option('max_colwidth', 100)"
   ]
  },
  {
   "cell_type": "code",
   "execution_count": null,
   "id": "f63f7891",
   "metadata": {
    "scrolled": false
   },
   "outputs": [],
   "source": [
    "import qgrid\n",
    "import pandas as pd\n",
    "\n",
    "\n",
    "# https://pbpython.com/dataframe-gui-overview.html\n",
    "filename = 'fake_abuseipdb.csv'\n",
    "df = pd.read_csv(filename, index_col=0)\n",
    "widget = qgrid.show_grid(df, show_toolbar=True)\n",
    "display(widget)\n"
   ]
  }
 ],
 "metadata": {
  "kernelspec": {
   "display_name": "Python 3 (ipykernel)",
   "language": "python",
   "name": "python3"
  },
  "language_info": {
   "codemirror_mode": {
    "name": "ipython",
    "version": 3
   },
   "file_extension": ".py",
   "mimetype": "text/x-python",
   "name": "python",
   "nbconvert_exporter": "python",
   "pygments_lexer": "ipython3",
   "version": "3.10.2"
  }
 },
 "nbformat": 4,
 "nbformat_minor": 5
}
